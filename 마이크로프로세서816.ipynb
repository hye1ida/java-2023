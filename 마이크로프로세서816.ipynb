{
  "nbformat": 4,
  "nbformat_minor": 0,
  "metadata": {
    "colab": {
      "provenance": [],
      "authorship_tag": "ABX9TyMk8DZZxxsEzZOAt8f0rwSN",
      "include_colab_link": true
    },
    "kernelspec": {
      "name": "python3",
      "display_name": "Python 3"
    },
    "language_info": {
      "name": "python"
    }
  },
  "cells": [
    {
      "cell_type": "markdown",
      "metadata": {
        "id": "view-in-github",
        "colab_type": "text"
      },
      "source": [
        "<a href=\"https://colab.research.google.com/github/hye1ida/java-2023/blob/master/%EB%A7%88%EC%9D%B4%ED%81%AC%EB%A1%9C%ED%94%84%EB%A1%9C%EC%84%B8%EC%84%9C816.ipynb\" target=\"_parent\"><img src=\"https://colab.research.google.com/assets/colab-badge.svg\" alt=\"Open In Colab\"/></a>"
      ]
    },
    {
      "cell_type": "code",
      "source": [
        "#예제1\n",
        "a = 2\n",
        "print(a)"
      ],
      "metadata": {
        "colab": {
          "base_uri": "https://localhost:8080/"
        },
        "id": "ATCHVh76rZgT",
        "outputId": "8e1082c0-f9b1-46e5-d138-bbcef71e3c8e"
      },
      "execution_count": null,
      "outputs": [
        {
          "output_type": "stream",
          "name": "stdout",
          "text": [
            "2\n"
          ]
        }
      ]
    },
    {
      "cell_type": "code",
      "source": [
        "#예제2\n",
        "b = 'micro'\n",
        "print(b)"
      ],
      "metadata": {
        "colab": {
          "base_uri": "https://localhost:8080/"
        },
        "id": "TJISIGHHrolK",
        "outputId": "30ffaa6e-72c8-47fb-c2cb-5d85b0714c5e"
      },
      "execution_count": null,
      "outputs": [
        {
          "output_type": "stream",
          "name": "stdout",
          "text": [
            "micro\n"
          ]
        }
      ]
    },
    {
      "cell_type": "code",
      "source": [
        "#예제3\n",
        "a = 'pro'\n",
        "print(type(a))"
      ],
      "metadata": {
        "colab": {
          "base_uri": "https://localhost:8080/"
        },
        "id": "R3zBkuGTrveq",
        "outputId": "25f8e688-30cb-4c4a-a0db-825052ef76eb"
      },
      "execution_count": null,
      "outputs": [
        {
          "output_type": "stream",
          "name": "stdout",
          "text": [
            "<class 'str'>\n"
          ]
        }
      ]
    },
    {
      "cell_type": "code",
      "source": [
        "#예제4\n",
        "b = 24\n",
        "print(type(b))"
      ],
      "metadata": {
        "colab": {
          "base_uri": "https://localhost:8080/"
        },
        "id": "uL6Tynvvr5fC",
        "outputId": "0c1b2f1d-5922-4945-a2a2-932a20ec6266"
      },
      "execution_count": null,
      "outputs": [
        {
          "output_type": "stream",
          "name": "stdout",
          "text": [
            "<class 'int'>\n"
          ]
        }
      ]
    },
    {
      "cell_type": "code",
      "source": [
        "import keyword\n",
        "print(keyword.kwlist)"
      ],
      "metadata": {
        "colab": {
          "base_uri": "https://localhost:8080/"
        },
        "id": "JvnRC9FZsodK",
        "outputId": "a299b3c7-15f4-45f9-dd20-614aacd21552"
      },
      "execution_count": null,
      "outputs": [
        {
          "output_type": "stream",
          "name": "stdout",
          "text": [
            "['False', 'None', 'True', 'and', 'as', 'assert', 'async', 'await', 'break', 'class', 'continue', 'def', 'del', 'elif', 'else', 'except', 'finally', 'for', 'from', 'global', 'if', 'import', 'in', 'is', 'lambda', 'nonlocal', 'not', 'or', 'pass', 'raise', 'return', 'try', 'while', 'with', 'yield']\n"
          ]
        }
      ]
    },
    {
      "cell_type": "code",
      "source": [
        "#리스트 : 대괄호 []\n",
        "c = [1,2,3]\n",
        "print(c)"
      ],
      "metadata": {
        "colab": {
          "base_uri": "https://localhost:8080/"
        },
        "id": "ttdlM8mutGbC",
        "outputId": "bc603c35-ea09-4986-8663-d3e832a52414"
      },
      "execution_count": null,
      "outputs": [
        {
          "output_type": "stream",
          "name": "stdout",
          "text": [
            "[1, 2, 3]\n"
          ]
        }
      ]
    },
    {
      "cell_type": "code",
      "source": [
        "#튜플 : 괄호()\n",
        "d = (1,2,3)\n",
        "print(d)"
      ],
      "metadata": {
        "colab": {
          "base_uri": "https://localhost:8080/"
        },
        "id": "E7BycuPPtc1K",
        "outputId": "37a15214-55f5-4d97-a428-e6f2fd6e52d0"
      },
      "execution_count": null,
      "outputs": [
        {
          "output_type": "stream",
          "name": "stdout",
          "text": [
            "(1, 2, 3)\n"
          ]
        }
      ]
    },
    {
      "cell_type": "code",
      "source": [
        "#사전형 : 중괄호{}\n",
        "e = {'I ' :  '나는','am':'입니다','boy':'소년'}\n",
        "print(e)"
      ],
      "metadata": {
        "colab": {
          "base_uri": "https://localhost:8080/"
        },
        "id": "Lm7GUvMftqQq",
        "outputId": "63faf753-c2a9-4d84-9266-5a7c3cf1b1ba"
      },
      "execution_count": null,
      "outputs": [
        {
          "output_type": "stream",
          "name": "stdout",
          "text": [
            "{'I ': '나는', 'am': '입니다', 'boy': '소년'}\n"
          ]
        }
      ]
    },
    {
      "cell_type": "code",
      "source": [
        "#예제5\n",
        "import random\n",
        "dice = [1,2,3,4,5,6]\n",
        "print(random.choice(dice))"
      ],
      "metadata": {
        "colab": {
          "base_uri": "https://localhost:8080/"
        },
        "id": "0T2FmxcVt4K5",
        "outputId": "23ab26de-4a2b-4c4b-fcc1-5a71b0de529b"
      },
      "execution_count": null,
      "outputs": [
        {
          "output_type": "stream",
          "name": "stdout",
          "text": [
            "3\n"
          ]
        }
      ]
    },
    {
      "cell_type": "code",
      "source": [
        "#예제6\n",
        "import random\n",
        "coin = ('앞면','뒷면')\n",
        "print(random.choice(coin))"
      ],
      "metadata": {
        "colab": {
          "base_uri": "https://localhost:8080/"
        },
        "id": "-AkaR-m-uVeS",
        "outputId": "1fb8f61f-4a46-4188-c2a7-38eb7ad2bd17"
      },
      "execution_count": null,
      "outputs": [
        {
          "output_type": "stream",
          "name": "stdout",
          "text": [
            "앞면\n"
          ]
        }
      ]
    },
    {
      "cell_type": "code",
      "source": [
        "#예제7\n",
        "import random\n",
        "dice = [1,2,3,4,5,6]\n",
        "a = random.choice(dice)\n",
        "\n",
        "if a == 3:\n",
        "  print('당첨')\n",
        "else:\n",
        "  print('꽝')"
      ],
      "metadata": {
        "colab": {
          "base_uri": "https://localhost:8080/"
        },
        "id": "ZzqoCGvfu0Sa",
        "outputId": "dfa2e9f6-1a37-4fa8-bedd-17597899f7a1"
      },
      "execution_count": null,
      "outputs": [
        {
          "output_type": "stream",
          "name": "stdout",
          "text": [
            "꽝\n"
          ]
        }
      ]
    },
    {
      "cell_type": "code",
      "source": [
        "#예제8\n",
        "import random\n",
        "coin = ['앞면','뒷면']\n",
        "a = random.choice(coin)\n",
        "\n",
        "if a == '앞면':\n",
        "  print('앞면입니다.')\n",
        "else:\n",
        "  print('뒷면입니다.')"
      ],
      "metadata": {
        "colab": {
          "base_uri": "https://localhost:8080/"
        },
        "id": "WYk07qcAv3lc",
        "outputId": "d18628c5-f272-4efe-a248-ff5238d2a01e"
      },
      "execution_count": null,
      "outputs": [
        {
          "output_type": "stream",
          "name": "stdout",
          "text": [
            "뒷면입니다.\n"
          ]
        }
      ]
    },
    {
      "cell_type": "code",
      "source": [
        "#예제9\n",
        "import random\n",
        "table = [1,2,3,4,5,6]\n",
        "a = random.choice(table)\n",
        "\n",
        "print(a,'번 테이블로 이동합니다', sep ='')"
      ],
      "metadata": {
        "colab": {
          "base_uri": "https://localhost:8080/"
        },
        "id": "LaSpKqThwGO6",
        "outputId": "977d225d-d116-4095-fd94-1cbfa7cfcfa0"
      },
      "execution_count": null,
      "outputs": [
        {
          "output_type": "stream",
          "name": "stdout",
          "text": [
            "2번 테이블로 이동합니다\n"
          ]
        }
      ]
    },
    {
      "cell_type": "code",
      "source": [
        "#예제10\n",
        "import random\n",
        "dice = [1,2,3,4,5,6]\n",
        "a = random.choice(dice)\n",
        "\n",
        "if a % 2 == 0:\n",
        "  print('짝수입니다')\n",
        "else:\n",
        "  print('홀수입니다')"
      ],
      "metadata": {
        "colab": {
          "base_uri": "https://localhost:8080/"
        },
        "id": "j4ccKh9DzOYL",
        "outputId": "89cf9c5f-cc09-48ac-c11d-dc0fc0fbe7bb"
      },
      "execution_count": null,
      "outputs": [
        {
          "output_type": "stream",
          "name": "stdout",
          "text": [
            "짝수입니다\n"
          ]
        }
      ]
    },
    {
      "cell_type": "code",
      "source": [
        "#예제11\n",
        "import random\n",
        "coin = ['앞면','뒷면']\n",
        "\n",
        "for i in range(10) :\n",
        "  a = random.choice(coin)\n",
        "  print(a)"
      ],
      "metadata": {
        "colab": {
          "base_uri": "https://localhost:8080/"
        },
        "id": "ySyBBM7ozU80",
        "outputId": "b30888f9-b5fd-49db-d17f-b8db3abacd7c"
      },
      "execution_count": null,
      "outputs": [
        {
          "output_type": "stream",
          "name": "stdout",
          "text": [
            "앞면\n",
            "앞면\n",
            "뒷면\n",
            "뒷면\n",
            "앞면\n",
            "앞면\n",
            "뒷면\n",
            "앞면\n",
            "뒷면\n",
            "뒷면\n"
          ]
        }
      ]
    },
    {
      "cell_type": "code",
      "source": [
        "#예제12\n",
        "import random\n",
        "coin = ['앞면','뒷면']\n",
        "cnt = 0\n",
        "\n",
        "for i in range(10) :\n",
        "  a = random.choice(coin)\n",
        "  if a == '앞면' :\n",
        "    cnt += 1\n",
        "print(cnt)"
      ],
      "metadata": {
        "colab": {
          "base_uri": "https://localhost:8080/"
        },
        "id": "SmQVh8ei0dr6",
        "outputId": "2f508b8f-9c98-43a4-8d0f-925eec91dc81"
      },
      "execution_count": null,
      "outputs": [
        {
          "output_type": "stream",
          "name": "stdout",
          "text": [
            "3\n"
          ]
        }
      ]
    },
    {
      "cell_type": "code",
      "source": [
        "#예제13\n",
        "import random\n",
        "dice = [1,2,3,4,5,6]\n",
        "cnt1,cnt2,cnt3,cnt4,cnt5,cnt6 = 0,0,0,0,0,0\n",
        "\n",
        "for i in range(1,100001) :\n",
        "  a = random.choice(dice)\n",
        "  if a == 1 :\n",
        "    cnt1 += 1\n",
        "  elif a == 2:\n",
        "    cnt2 += 1\n",
        "  elif a == 3:\n",
        "    cnt3 += 1\n",
        "  elif a == 4:\n",
        "    cnt4 += 1\n",
        "  elif a == 5:\n",
        "    cnt5 += 1\n",
        "  else :\n",
        "    cnt6 += 1\n",
        "\n",
        "print(\"주사위의 눈1이 나올 확률은?\",cnt1/100000)\n",
        "print(\"주사위의 눈2이 나올 확률은?\",cnt2/100000)\n",
        "print(\"주사위의 눈3이 나올 확률은?\",cnt3/100000)\n",
        "print(\"주사위의 눈4이 나올 확률은?\",cnt4/100000)\n",
        "print(\"주사위의 눈5이 나올 확률은?\",cnt5/100000)\n",
        "print(\"주사위의 눈6이 나올 확률은?\",cnt6/100000)"
      ],
      "metadata": {
        "colab": {
          "base_uri": "https://localhost:8080/"
        },
        "id": "kI2MJ-fV03py",
        "outputId": "15d749cd-d6c1-4045-9018-240e31029525"
      },
      "execution_count": null,
      "outputs": [
        {
          "output_type": "stream",
          "name": "stdout",
          "text": [
            "주사위의 눈1이 나올 확률은? 0.16496\n",
            "주사위의 눈2이 나올 확률은? 0.16676\n",
            "주사위의 눈3이 나올 확률은? 0.16691\n",
            "주사위의 눈4이 나올 확률은? 0.16704\n",
            "주사위의 눈5이 나올 확률은? 0.16814\n",
            "주사위의 눈6이 나올 확률은? 0.16619\n"
          ]
        }
      ]
    },
    {
      "cell_type": "code",
      "source": [
        "#예제14\n",
        "\n",
        "for i in range(1,11) :\n",
        "  if i in (5,9) :\n",
        "    continue\n",
        "  print(i,'는 청소하기')"
      ],
      "metadata": {
        "colab": {
          "base_uri": "https://localhost:8080/"
        },
        "id": "yA9rcFea15Sj",
        "outputId": "ace9a6d8-d2d9-4c21-b76f-6221f0a742e1"
      },
      "execution_count": null,
      "outputs": [
        {
          "output_type": "stream",
          "name": "stdout",
          "text": [
            "1 는 청소하기\n",
            "2 는 청소하기\n",
            "3 는 청소하기\n",
            "4 는 청소하기\n",
            "6 는 청소하기\n",
            "7 는 청소하기\n",
            "8 는 청소하기\n",
            "10 는 청소하기\n"
          ]
        }
      ]
    },
    {
      "cell_type": "code",
      "source": [
        "#예제15\n",
        "import random\n",
        "coin = ['앞면','뒷면']\n",
        "for i in range(5) :\n",
        "  b = random.choice(coin)\n",
        "  print(b)\n",
        "  if b == '앞면':\n",
        "    break"
      ],
      "metadata": {
        "colab": {
          "base_uri": "https://localhost:8080/"
        },
        "id": "6ywtXVPE2hG0",
        "outputId": "6c3be569-4386-4d3c-a283-29b99dddbd7c"
      },
      "execution_count": null,
      "outputs": [
        {
          "output_type": "stream",
          "name": "stdout",
          "text": [
            "뒷면\n",
            "뒷면\n",
            "뒷면\n",
            "앞면\n"
          ]
        }
      ]
    },
    {
      "cell_type": "code",
      "source": [
        "#예제16\n",
        "a = int(input(\"숫자 첫 번째\"))\n",
        "b = int(input(\"숫자 두 번째\"))\n",
        "for i in range(min(a,b),0,-1):\n",
        "  if a % i == 0 and b % i == 0:\n",
        "    break\n",
        "print(\"최대공약수는\",i,'입니다.',sep = '')"
      ],
      "metadata": {
        "colab": {
          "base_uri": "https://localhost:8080/"
        },
        "id": "zfjk8svx2307",
        "outputId": "4c698e8b-c815-495d-fd7a-fa050576077e"
      },
      "execution_count": null,
      "outputs": [
        {
          "output_type": "stream",
          "name": "stdout",
          "text": [
            "숫자 첫 번째60\n",
            "숫자 두 번째48\n",
            "최대공약수는12입니다.\n"
          ]
        }
      ]
    },
    {
      "cell_type": "code",
      "source": [
        "#예제17\n",
        "for i in range(2,10):\n",
        "  for a in range(1,10):\n",
        "    print(i,'X',a,'=',i*a)"
      ],
      "metadata": {
        "id": "BgWPSPYF5-Tr"
      },
      "execution_count": null,
      "outputs": []
    },
    {
      "cell_type": "code",
      "source": [
        "#예제18-1\n",
        "for j in range(2,10):\n",
        "  for k in range(1,10):\n",
        "    print(j,'X',k,'=',k*j)"
      ],
      "metadata": {
        "id": "zRSdPw0Y7nP7"
      },
      "execution_count": null,
      "outputs": []
    },
    {
      "cell_type": "code",
      "source": [
        "#예제18-2\n",
        "a = 1\n",
        "while a < 10 :\n",
        "  b = 1\n",
        "  while b < 10 :\n",
        "    print(a,' X ',b,'=',a*b)\n",
        "    b += 1\n",
        "  a = a+1"
      ],
      "metadata": {
        "colab": {
          "base_uri": "https://localhost:8080/"
        },
        "id": "9MMCUTNV8c4q",
        "outputId": "ce7f9044-4032-4a2b-dc0e-2f599fe171cb"
      },
      "execution_count": null,
      "outputs": [
        {
          "output_type": "stream",
          "name": "stdout",
          "text": [
            "1  X  1 = 1\n",
            "1  X  2 = 2\n",
            "1  X  3 = 3\n",
            "1  X  4 = 4\n",
            "1  X  5 = 5\n",
            "1  X  6 = 6\n",
            "1  X  7 = 7\n",
            "1  X  8 = 8\n",
            "1  X  9 = 9\n",
            "2  X  1 = 2\n",
            "2  X  2 = 4\n",
            "2  X  3 = 6\n",
            "2  X  4 = 8\n",
            "2  X  5 = 10\n",
            "2  X  6 = 12\n",
            "2  X  7 = 14\n",
            "2  X  8 = 16\n",
            "2  X  9 = 18\n",
            "3  X  1 = 3\n",
            "3  X  2 = 6\n",
            "3  X  3 = 9\n",
            "3  X  4 = 12\n",
            "3  X  5 = 15\n",
            "3  X  6 = 18\n",
            "3  X  7 = 21\n",
            "3  X  8 = 24\n",
            "3  X  9 = 27\n",
            "4  X  1 = 4\n",
            "4  X  2 = 8\n",
            "4  X  3 = 12\n",
            "4  X  4 = 16\n",
            "4  X  5 = 20\n",
            "4  X  6 = 24\n",
            "4  X  7 = 28\n",
            "4  X  8 = 32\n",
            "4  X  9 = 36\n",
            "5  X  1 = 5\n",
            "5  X  2 = 10\n",
            "5  X  3 = 15\n",
            "5  X  4 = 20\n",
            "5  X  5 = 25\n",
            "5  X  6 = 30\n",
            "5  X  7 = 35\n",
            "5  X  8 = 40\n",
            "5  X  9 = 45\n",
            "6  X  1 = 6\n",
            "6  X  2 = 12\n",
            "6  X  3 = 18\n",
            "6  X  4 = 24\n",
            "6  X  5 = 30\n",
            "6  X  6 = 36\n",
            "6  X  7 = 42\n",
            "6  X  8 = 48\n",
            "6  X  9 = 54\n",
            "7  X  1 = 7\n",
            "7  X  2 = 14\n",
            "7  X  3 = 21\n",
            "7  X  4 = 28\n",
            "7  X  5 = 35\n",
            "7  X  6 = 42\n",
            "7  X  7 = 49\n",
            "7  X  8 = 56\n",
            "7  X  9 = 63\n",
            "8  X  1 = 8\n",
            "8  X  2 = 16\n",
            "8  X  3 = 24\n",
            "8  X  4 = 32\n",
            "8  X  5 = 40\n",
            "8  X  6 = 48\n",
            "8  X  7 = 56\n",
            "8  X  8 = 64\n",
            "8  X  9 = 72\n",
            "9  X  1 = 9\n",
            "9  X  2 = 18\n",
            "9  X  3 = 27\n",
            "9  X  4 = 36\n",
            "9  X  5 = 45\n",
            "9  X  6 = 54\n",
            "9  X  7 = 63\n",
            "9  X  8 = 72\n",
            "9  X  9 = 81\n"
          ]
        }
      ]
    },
    {
      "cell_type": "code",
      "source": [
        "#예제19\n",
        "a = '서울로봇고등학교'\n",
        "print(a)\n",
        "print(a[2:4])\n",
        "print(a[0:2])\n",
        "print(a[4:])"
      ],
      "metadata": {
        "colab": {
          "base_uri": "https://localhost:8080/"
        },
        "id": "sP82jx2P9slc",
        "outputId": "6711fb3f-ed6f-4e64-fe0c-3187db71ed0c"
      },
      "execution_count": null,
      "outputs": [
        {
          "output_type": "stream",
          "name": "stdout",
          "text": [
            "서울로봇고등학교\n",
            "로봇\n",
            "서울\n",
            "고등학교\n"
          ]
        }
      ]
    },
    {
      "cell_type": "code",
      "source": [
        "#예제20\n",
        "a = '한가지만 한다.딱 하나'\n",
        "print(a[8:])"
      ],
      "metadata": {
        "colab": {
          "base_uri": "https://localhost:8080/"
        },
        "id": "49zLHbk9AiWT",
        "outputId": "9b222d85-3f31-4999-8415-daca510c4d5e"
      },
      "execution_count": null,
      "outputs": [
        {
          "output_type": "stream",
          "name": "stdout",
          "text": [
            "딱 하나\n"
          ]
        }
      ]
    },
    {
      "cell_type": "code",
      "source": [
        "#예제21\n",
        "a = '기상 후 1시간을 얼마나 의미 있게 보내느꺄에 따라 그날 하루가 결정됩니다.'\n",
        "print(a.find('의미'))\n",
        "print(a.index('의미'))\n",
        "print(a.count('의미'))\n",
        "print(a.find('축구'))"
      ],
      "metadata": {
        "colab": {
          "base_uri": "https://localhost:8080/"
        },
        "id": "fltzlTzqHzCW",
        "outputId": "541671b8-7a78-40c4-aa2a-e476322f5b2f"
      },
      "execution_count": null,
      "outputs": [
        {
          "output_type": "stream",
          "name": "stdout",
          "text": [
            "14\n",
            "14\n",
            "1\n",
            "-1\n"
          ]
        }
      ]
    },
    {
      "cell_type": "code",
      "source": [
        "#예제22\n",
        "a = ['Future' ,'fUture','today','fuTure','futuRe']\n",
        "cnt = 0\n",
        "for j in a :\n",
        "  if j.lower() == 'future':\n",
        "    cnt +=1\n",
        "print(cnt)"
      ],
      "metadata": {
        "colab": {
          "base_uri": "https://localhost:8080/"
        },
        "id": "FS7TN6GiA1ED",
        "outputId": "fa25144c-70b7-4cf0-8092-f9f24bf36110"
      },
      "execution_count": null,
      "outputs": [
        {
          "output_type": "stream",
          "name": "stdout",
          "text": [
            "4\n"
          ]
        }
      ]
    },
    {
      "cell_type": "code",
      "source": [],
      "metadata": {
        "id": "0yUur5LKCgBj"
      },
      "execution_count": null,
      "outputs": []
    }
  ]
}